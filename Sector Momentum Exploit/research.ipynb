{
 "cells": [
  {
   "cell_type": "markdown",
   "metadata": {
    "pycharm": {
     "name": "#%% md\n"
    }
   },
   "source": [
    "![QuantConnect Logo](https://cdn.quantconnect.com/web/i/icon.png)\n",
    "<hr>"
   ]
  },
  {
   "cell_type": "code",
   "execution_count": null,
   "metadata": {
    "pycharm": {
     "name": "#%%\n"
    }
   },
   "outputs": [
    {
     "ename": "NameError",
     "evalue": "name 'QuantBook' is not defined",
     "output_type": "error",
     "traceback": [
      "\u001b[31m---------------------------------------------------------------------------\u001b[39m",
      "\u001b[31mNameError\u001b[39m                                 Traceback (most recent call last)",
      "\u001b[36mCell\u001b[39m\u001b[36m \u001b[39m\u001b[32mIn[1]\u001b[39m\u001b[32m, line 1\u001b[39m\n\u001b[32m----> \u001b[39m\u001b[32m1\u001b[39m qb = \u001b[43mQuantBook\u001b[49m()\n\u001b[32m      3\u001b[39m \u001b[38;5;66;03m# Define the sector ETFs (you can adjust this list as needed)\u001b[39;00m\n\u001b[32m      4\u001b[39m sector_etfs = [\n\u001b[32m      5\u001b[39m     \u001b[33m\"\u001b[39m\u001b[33mFNCL\u001b[39m\u001b[33m\"\u001b[39m,  \u001b[38;5;66;03m# Financials - Fidelity: low fee (0.08%), solid exposure\u001b[39;00m\n\u001b[32m      6\u001b[39m     \u001b[33m\"\u001b[39m\u001b[33mFTEC\u001b[39m\u001b[33m\"\u001b[39m,  \u001b[38;5;66;03m# Technology - Fidelity: your choice, low fee, diversified\u001b[39;00m\n\u001b[32m   (...)\u001b[39m\u001b[32m     15\u001b[39m     \u001b[33m\"\u001b[39m\u001b[33mVAW\u001b[39m\u001b[33m\"\u001b[39m    \u001b[38;5;66;03m# Materials - Vanguard: broader materials exposure than XLB\u001b[39;00m\n\u001b[32m     16\u001b[39m ]\n",
      "\u001b[31mNameError\u001b[39m: name 'QuantBook' is not defined"
     ]
    }
   ],
   "source": [
    "qb = QuantBook()\n",
    "\n",
    "# Define the sector ETFs (you can adjust this list as needed)\n",
    "sector_etfs = [\n",
    "    \"FNCL\",  # Financials - Fidelity: low fee (0.08%), solid exposure\n",
    "    \"FTEC\",  # Technology - Fidelity: your choice, low fee, diversified\n",
    "    \"XLE\",   # Energy - SPDR: most liquid energy ETF, industry standard\n",
    "    \"FDIS\",  # Consumer Discretionary - Fidelity: cheaper than XLY, strong AUM\n",
    "    \"VDC\",   # Consumer Staples - Vanguard: broad coverage, low expense\n",
    "    \"XLI\",   # Industrials - SPDR: more liquid than Fidelity/Vanguard\n",
    "    \"VHT\",   # Health Care - Vanguard: broad and diversified healthcare sector\n",
    "    \"FUTY\",  # Utilities - Fidelity: lowest fee, sufficient volume for most uses\n",
    "    \"VNQ\",   # Real Estate - Vanguard: top REIT ETF, large cap focus\n",
    "    \"XLC\",   # Communication Services - SPDR: covers FAANG + telecom\n",
    "    \"VAW\"    # Materials - Vanguard: broader materials exposure than XLB\n",
    "]\n",
    "\n",
    "# Add the sector ETFs to QuantBook\n",
    "symbols = [qb.AddEquity(etf).Symbol for etf in sector_etfs]\n",
    "\n",
    "# Get historical data for the last 5 years\n",
    "history = qb.History(symbols, timedelta(days=0.5*365), Resolution.Daily)\n",
    "\n",
    "# Prepare data for analysis\n",
    "sector_data = {symbol: history.loc[symbol].close for symbol in symbols}\n",
    "sector_df = pd.DataFrame(sector_data)\n",
    "sector_df.index = pd.to_datetime(sector_df.index)\n",
    "\n",
    "# Calculate daily returns\n",
    "daily_returns = sector_df.pct_change().dropna()\n",
    "\n",
    "# Calculate cumulative returns\n",
    "cumulative_returns = (1 + daily_returns).cumprod() - 1\n",
    "\n",
    "# Plot cumulative returns\n",
    "plt.figure(figsize=(14, 7))\n",
    "for sector in cumulative_returns.columns:\n",
    "    plt.plot(cumulative_returns.index, cumulative_returns[sector], label=sector)\n",
    "\n",
    "plt.title('Sector Performance Over Time')\n",
    "plt.xlabel('Date')\n",
    "plt.ylabel('Cumulative Returns')\n",
    "plt.legend()\n",
    "plt.show()"
   ]
  },
  {
   "cell_type": "code",
   "execution_count": null,
   "metadata": {
    "pycharm": {
     "name": "#%%\n"
    }
   },
   "outputs": [],
   "source": []
  }
 ],
 "metadata": {
  "kernelspec": {
   "display_name": ".venv",
   "language": "python",
   "name": "python3"
  },
  "language_info": {
   "codemirror_mode": {
    "name": "ipython",
    "version": 3
   },
   "file_extension": ".py",
   "mimetype": "text/x-python",
   "name": "python",
   "nbconvert_exporter": "python",
   "pygments_lexer": "ipython3",
   "version": "3.11.6"
  }
 },
 "nbformat": 4,
 "nbformat_minor": 2
}
